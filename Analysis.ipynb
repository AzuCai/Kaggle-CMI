{
 "cells": [
  {
   "cell_type": "code",
   "execution_count": 1,
   "id": "c1f47797",
   "metadata": {
    "_cell_guid": "b1076dfc-b9ad-4769-8c92-a6c4dae69d19",
    "_uuid": "8f2839f25d086af736a60e9eeb907d3b93b6e0e5",
    "execution": {
     "iopub.execute_input": "2024-12-20T08:30:52.895315Z",
     "iopub.status.busy": "2024-12-20T08:30:52.894700Z",
     "iopub.status.idle": "2024-12-20T08:30:57.182508Z",
     "shell.execute_reply": "2024-12-20T08:30:57.181434Z"
    },
    "papermill": {
     "duration": 4.299745,
     "end_time": "2024-12-20T08:30:57.185372",
     "exception": false,
     "start_time": "2024-12-20T08:30:52.885627",
     "status": "completed"
    },
    "tags": []
   },
   "outputs": [],
   "source": [
    "import numpy as np\n",
    "import pandas as pd\n",
    "import polars as pl\n",
    "import lightgbm as lgb\n",
    "from glob import glob\n",
    "from tqdm.auto import tqdm\n",
    "from matplotlib import pyplot as plt\n",
    "from sklearn.preprocessing import StandardScaler, PowerTransformer\n",
    "from sklearn.experimental import enable_iterative_imputer\n",
    "from sklearn.impute import IterativeImputer\n",
    "from sklearn.model_selection import StratifiedKFold\n",
    "from sklearn.metrics import cohen_kappa_score"
   ]
  },
  {
   "cell_type": "code",
   "execution_count": 3,
   "id": "42bf519c",
   "metadata": {
    "execution": {
     "iopub.execute_input": "2024-12-20T08:30:57.222486Z",
     "iopub.status.busy": "2024-12-20T08:30:57.221572Z",
     "iopub.status.idle": "2024-12-20T08:30:57.226897Z",
     "shell.execute_reply": "2024-12-20T08:30:57.225728Z"
    },
    "papermill": {
     "duration": 0.01393,
     "end_time": "2024-12-20T08:30:57.228926",
     "exception": false,
     "start_time": "2024-12-20T08:30:57.214996",
     "status": "completed"
    },
    "tags": []
   },
   "outputs": [],
   "source": [
    "INPUT_DIR = \"/kaggle/input/child-mind-institute-problematic-internet-use/\""
   ]
  },
  {
   "cell_type": "markdown",
   "id": "b6bf1b96",
   "metadata": {
    "papermill": {
     "duration": 0.005457,
     "end_time": "2024-12-20T08:30:57.240177",
     "exception": false,
     "start_time": "2024-12-20T08:30:57.234720",
     "status": "completed"
    },
    "tags": []
   },
   "source": [
    "## Preprocess"
   ]
  },
  {
   "cell_type": "code",
   "execution_count": 4,
   "id": "708f91f4",
   "metadata": {
    "execution": {
     "iopub.execute_input": "2024-12-20T08:30:57.253785Z",
     "iopub.status.busy": "2024-12-20T08:30:57.252697Z",
     "iopub.status.idle": "2024-12-20T08:30:57.259152Z",
     "shell.execute_reply": "2024-12-20T08:30:57.258092Z"
    },
    "papermill": {
     "duration": 0.016008,
     "end_time": "2024-12-20T08:30:57.261667",
     "exception": false,
     "start_time": "2024-12-20T08:30:57.245659",
     "status": "completed"
    },
    "tags": []
   },
   "outputs": [],
   "source": [
    "def preprocess(df):\n",
    "    df_new = df.copy()\n",
    "    df_new[\"Physical-BMI\"] = df_new[\"Physical-BMI\"].replace(0, np.nan)\n",
    "    df_new[\"Physical-Weight\"] = df_new[\"Physical-Weight\"].replace(0, np.nan)\n",
    "    df_new[\"Fitness_Endurance-Time_Sec\"] += df_new[\"Fitness_Endurance-Time_Mins\"] * 60\n",
    "    df_new = df_new.drop([\"Fitness_Endurance-Max_Stage\", \"Fitness_Endurance-Time_Mins\", \"SDS-SDS_Total_T\"], axis=1)\n",
    "    \n",
    "    return df_new"
   ]
  },
  {
   "cell_type": "code",
   "execution_count": 5,
   "id": "9dda0be6",
   "metadata": {
    "execution": {
     "iopub.execute_input": "2024-12-20T08:30:57.274548Z",
     "iopub.status.busy": "2024-12-20T08:30:57.274175Z",
     "iopub.status.idle": "2024-12-20T08:30:57.361446Z",
     "shell.execute_reply": "2024-12-20T08:30:57.360397Z"
    },
    "papermill": {
     "duration": 0.09663,
     "end_time": "2024-12-20T08:30:57.363955",
     "exception": false,
     "start_time": "2024-12-20T08:30:57.267325",
     "status": "completed"
    },
    "tags": []
   },
   "outputs": [],
   "source": [
    "df = pd.read_csv(INPUT_DIR + \"train.csv\")\n",
    "df_test = pd.read_csv(INPUT_DIR + \"test.csv\")\n",
    "\n",
    "IS_SUBMIT = len(df_test) != 20"
   ]
  },
  {
   "cell_type": "code",
   "execution_count": 6,
   "id": "df3e3776",
   "metadata": {
    "execution": {
     "iopub.execute_input": "2024-12-20T08:30:57.377617Z",
     "iopub.status.busy": "2024-12-20T08:30:57.377198Z",
     "iopub.status.idle": "2024-12-20T08:30:57.407587Z",
     "shell.execute_reply": "2024-12-20T08:30:57.406571Z"
    },
    "papermill": {
     "duration": 0.040208,
     "end_time": "2024-12-20T08:30:57.410131",
     "exception": false,
     "start_time": "2024-12-20T08:30:57.369923",
     "status": "completed"
    },
    "tags": []
   },
   "outputs": [],
   "source": [
    "df = preprocess(df)\n",
    "df_test = preprocess(df_test)"
   ]
  },
  {
   "cell_type": "markdown",
   "id": "26357f80",
   "metadata": {
    "papermill": {
     "duration": 0.005182,
     "end_time": "2024-12-20T08:30:57.420925",
     "exception": false,
     "start_time": "2024-12-20T08:30:57.415743",
     "status": "completed"
    },
    "tags": []
   },
   "source": [
    "## Missing Value Imputation (IterativeImputer)"
   ]
  },
  {
   "cell_type": "code",
   "execution_count": 7,
   "id": "87b63c2b",
   "metadata": {
    "execution": {
     "iopub.execute_input": "2024-12-20T08:30:57.434182Z",
     "iopub.status.busy": "2024-12-20T08:30:57.433123Z",
     "iopub.status.idle": "2024-12-20T08:30:57.438924Z",
     "shell.execute_reply": "2024-12-20T08:30:57.437799Z"
    },
    "papermill": {
     "duration": 0.014816,
     "end_time": "2024-12-20T08:30:57.441089",
     "exception": false,
     "start_time": "2024-12-20T08:30:57.426273",
     "status": "completed"
    },
    "tags": []
   },
   "outputs": [],
   "source": [
    "drop_cols = list(set(df.columns) - set(df_test.columns))"
   ]
  },
  {
   "cell_type": "code",
   "execution_count": 8,
   "id": "efdcf0c1",
   "metadata": {
    "execution": {
     "iopub.execute_input": "2024-12-20T08:30:57.454546Z",
     "iopub.status.busy": "2024-12-20T08:30:57.453593Z",
     "iopub.status.idle": "2024-12-20T08:30:57.471610Z",
     "shell.execute_reply": "2024-12-20T08:30:57.470481Z"
    },
    "papermill": {
     "duration": 0.02736,
     "end_time": "2024-12-20T08:30:57.474157",
     "exception": false,
     "start_time": "2024-12-20T08:30:57.446797",
     "status": "completed"
    },
    "tags": []
   },
   "outputs": [],
   "source": [
    "df_all = pd.concat([df, df_test])\n",
    "\n",
    "X = df_all.drop([\"id\", \"sii\"] + drop_cols, axis=1)\n",
    "cat_cols = X.columns[X.dtypes==\"object\"].tolist()\n",
    "X = X.drop(cat_cols, axis=1)"
   ]
  },
  {
   "cell_type": "code",
   "execution_count": 9,
   "id": "971b88e6",
   "metadata": {
    "execution": {
     "iopub.execute_input": "2024-12-20T08:30:57.488250Z",
     "iopub.status.busy": "2024-12-20T08:30:57.486836Z",
     "iopub.status.idle": "2024-12-20T08:31:43.916515Z",
     "shell.execute_reply": "2024-12-20T08:31:43.914979Z"
    },
    "papermill": {
     "duration": 46.441831,
     "end_time": "2024-12-20T08:31:43.921492",
     "exception": false,
     "start_time": "2024-12-20T08:30:57.479661",
     "status": "completed"
    },
    "tags": []
   },
   "outputs": [
    {
     "name": "stdout",
     "output_type": "stream",
     "text": [
      "[IterativeImputer] Completing matrix with shape (3960, 45)\n",
      "[IterativeImputer] Change: 45.90592008070779, scaled tolerance: 0.044387465901923766 \n",
      "[IterativeImputer] Change: 150.53927782675683, scaled tolerance: 0.044387465901923766 \n",
      "[IterativeImputer] Change: 26.765356634770498, scaled tolerance: 0.044387465901923766 \n",
      "[IterativeImputer] Change: 1.0978731056623885, scaled tolerance: 0.044387465901923766 \n",
      "[IterativeImputer] Change: 1.4017225734281444, scaled tolerance: 0.044387465901923766 \n",
      "[IterativeImputer] Change: 1.7203945187131924, scaled tolerance: 0.044387465901923766 \n",
      "[IterativeImputer] Change: 1.4907226297799365, scaled tolerance: 0.044387465901923766 \n",
      "[IterativeImputer] Change: 0.8452386301834698, scaled tolerance: 0.044387465901923766 \n",
      "[IterativeImputer] Change: 0.3651514808840969, scaled tolerance: 0.044387465901923766 \n",
      "[IterativeImputer] Change: 0.14956579781656876, scaled tolerance: 0.044387465901923766 \n"
     ]
    },
    {
     "name": "stderr",
     "output_type": "stream",
     "text": [
      "/opt/conda/lib/python3.10/site-packages/sklearn/impute/_iterative.py:785: ConvergenceWarning: [IterativeImputer] Early stopping criterion not reached.\n",
      "  warnings.warn(\n"
     ]
    }
   ],
   "source": [
    "scaler = StandardScaler().set_output(transform=\"pandas\")\n",
    "scaler.fit_transform(X.iloc[:len(df)])\n",
    "X = scaler.transform(X)\n",
    "\n",
    "imputer = IterativeImputer(random_state=0, verbose=1).set_output(transform=\"pandas\")\n",
    "imputer.fit(X.iloc[:len(df)])\n",
    "imputer.set_params(verbose=0)\n",
    "\n",
    "X = imputer.transform(X)\n",
    "\n",
    "# drop colums not to impute\n",
    "X = X.loc[:, ~X.columns.str.contains(\"BIA-BIA\")]\n",
    "X = X.loc[:, ~X.columns.str.contains(\"FGC-FGC_S\")]\n",
    "X = X.drop([\"CGAS-CGAS_Score\", \"SDS-SDS_Total_Raw\"], axis=1)\n",
    "\n",
    "for col in X.columns:\n",
    "    df_all[col] = X[col].values"
   ]
  },
  {
   "cell_type": "markdown",
   "id": "88f702a1",
   "metadata": {
    "papermill": {
     "duration": 0.017569,
     "end_time": "2024-12-20T08:31:43.958398",
     "exception": false,
     "start_time": "2024-12-20T08:31:43.940829",
     "status": "completed"
    },
    "tags": []
   },
   "source": [
    "## Feature from Parquet Files"
   ]
  },
  {
   "cell_type": "code",
   "execution_count": 10,
   "id": "a1831e9b",
   "metadata": {
    "execution": {
     "iopub.execute_input": "2024-12-20T08:31:43.998160Z",
     "iopub.status.busy": "2024-12-20T08:31:43.997159Z",
     "iopub.status.idle": "2024-12-20T08:32:58.186647Z",
     "shell.execute_reply": "2024-12-20T08:32:58.185174Z"
    },
    "papermill": {
     "duration": 74.212649,
     "end_time": "2024-12-20T08:32:58.189061",
     "exception": false,
     "start_time": "2024-12-20T08:31:43.976412",
     "status": "completed"
    },
    "tags": []
   },
   "outputs": [
    {
     "data": {
      "application/vnd.jupyter.widget-view+json": {
       "model_id": "1e1c82b649a3439bb5e131e10f7c61f5",
       "version_major": 2,
       "version_minor": 0
      },
      "text/plain": [
       "  0%|          | 0/996 [00:00<?, ?it/s]"
      ]
     },
     "metadata": {},
     "output_type": "display_data"
    },
    {
     "data": {
      "text/html": [
       "<div>\n",
       "<style scoped>\n",
       "    .dataframe tbody tr th:only-of-type {\n",
       "        vertical-align: middle;\n",
       "    }\n",
       "\n",
       "    .dataframe tbody tr th {\n",
       "        vertical-align: top;\n",
       "    }\n",
       "\n",
       "    .dataframe thead th {\n",
       "        text-align: right;\n",
       "    }\n",
       "</style>\n",
       "<table border=\"1\" class=\"dataframe\">\n",
       "  <thead>\n",
       "    <tr style=\"text-align: right;\">\n",
       "      <th></th>\n",
       "      <th>id</th>\n",
       "      <th>enmo_std_mean</th>\n",
       "      <th>enmo_std_std</th>\n",
       "      <th>anglez_std_mean</th>\n",
       "      <th>anglez_std_std</th>\n",
       "      <th>light_std_mean</th>\n",
       "      <th>light_std_std</th>\n",
       "    </tr>\n",
       "  </thead>\n",
       "  <tbody>\n",
       "    <tr>\n",
       "      <th>0</th>\n",
       "      <td>00115b9f</td>\n",
       "      <td>-4.000377</td>\n",
       "      <td>NaN</td>\n",
       "      <td>1.989905</td>\n",
       "      <td>NaN</td>\n",
       "      <td>0.051475</td>\n",
       "      <td>NaN</td>\n",
       "    </tr>\n",
       "    <tr>\n",
       "      <th>1</th>\n",
       "      <td>001f3379</td>\n",
       "      <td>-3.514671</td>\n",
       "      <td>0.652348</td>\n",
       "      <td>3.236993</td>\n",
       "      <td>0.678888</td>\n",
       "      <td>0.774591</td>\n",
       "      <td>2.945807</td>\n",
       "    </tr>\n",
       "    <tr>\n",
       "      <th>2</th>\n",
       "      <td>00f332d1</td>\n",
       "      <td>-3.071176</td>\n",
       "      <td>0.927238</td>\n",
       "      <td>3.249122</td>\n",
       "      <td>0.463244</td>\n",
       "      <td>1.138379</td>\n",
       "      <td>2.939823</td>\n",
       "    </tr>\n",
       "    <tr>\n",
       "      <th>3</th>\n",
       "      <td>01085eb3</td>\n",
       "      <td>-2.902040</td>\n",
       "      <td>0.791255</td>\n",
       "      <td>3.389762</td>\n",
       "      <td>0.315061</td>\n",
       "      <td>1.054698</td>\n",
       "      <td>2.185839</td>\n",
       "    </tr>\n",
       "    <tr>\n",
       "      <th>4</th>\n",
       "      <td>012cadd8</td>\n",
       "      <td>-2.806918</td>\n",
       "      <td>1.171675</td>\n",
       "      <td>3.337322</td>\n",
       "      <td>0.388409</td>\n",
       "      <td>0.823770</td>\n",
       "      <td>3.350365</td>\n",
       "    </tr>\n",
       "    <tr>\n",
       "      <th>...</th>\n",
       "      <td>...</td>\n",
       "      <td>...</td>\n",
       "      <td>...</td>\n",
       "      <td>...</td>\n",
       "      <td>...</td>\n",
       "      <td>...</td>\n",
       "      <td>...</td>\n",
       "    </tr>\n",
       "    <tr>\n",
       "      <th>964</th>\n",
       "      <td>fe9c71d8</td>\n",
       "      <td>-3.116904</td>\n",
       "      <td>0.961804</td>\n",
       "      <td>3.037607</td>\n",
       "      <td>0.943554</td>\n",
       "      <td>-0.394200</td>\n",
       "      <td>2.742634</td>\n",
       "    </tr>\n",
       "    <tr>\n",
       "      <th>965</th>\n",
       "      <td>fecc07d6</td>\n",
       "      <td>-3.969482</td>\n",
       "      <td>0.981531</td>\n",
       "      <td>1.332831</td>\n",
       "      <td>1.428363</td>\n",
       "      <td>-0.438018</td>\n",
       "      <td>1.795653</td>\n",
       "    </tr>\n",
       "    <tr>\n",
       "      <th>966</th>\n",
       "      <td>ff18b749</td>\n",
       "      <td>-2.820076</td>\n",
       "      <td>0.937540</td>\n",
       "      <td>3.258458</td>\n",
       "      <td>0.417267</td>\n",
       "      <td>1.236652</td>\n",
       "      <td>3.341580</td>\n",
       "    </tr>\n",
       "    <tr>\n",
       "      <th>967</th>\n",
       "      <td>ffcd4dbd</td>\n",
       "      <td>-3.271800</td>\n",
       "      <td>0.827489</td>\n",
       "      <td>3.183395</td>\n",
       "      <td>0.629553</td>\n",
       "      <td>0.521227</td>\n",
       "      <td>2.665325</td>\n",
       "    </tr>\n",
       "    <tr>\n",
       "      <th>968</th>\n",
       "      <td>ffed1dd5</td>\n",
       "      <td>-3.359100</td>\n",
       "      <td>1.151259</td>\n",
       "      <td>2.489726</td>\n",
       "      <td>1.391600</td>\n",
       "      <td>-1.597793</td>\n",
       "      <td>2.344771</td>\n",
       "    </tr>\n",
       "  </tbody>\n",
       "</table>\n",
       "<p>969 rows × 7 columns</p>\n",
       "</div>"
      ],
      "text/plain": [
       "           id  enmo_std_mean  enmo_std_std  anglez_std_mean  anglez_std_std  \\\n",
       "0    00115b9f      -4.000377           NaN         1.989905             NaN   \n",
       "1    001f3379      -3.514671      0.652348         3.236993        0.678888   \n",
       "2    00f332d1      -3.071176      0.927238         3.249122        0.463244   \n",
       "3    01085eb3      -2.902040      0.791255         3.389762        0.315061   \n",
       "4    012cadd8      -2.806918      1.171675         3.337322        0.388409   \n",
       "..        ...            ...           ...              ...             ...   \n",
       "964  fe9c71d8      -3.116904      0.961804         3.037607        0.943554   \n",
       "965  fecc07d6      -3.969482      0.981531         1.332831        1.428363   \n",
       "966  ff18b749      -2.820076      0.937540         3.258458        0.417267   \n",
       "967  ffcd4dbd      -3.271800      0.827489         3.183395        0.629553   \n",
       "968  ffed1dd5      -3.359100      1.151259         2.489726        1.391600   \n",
       "\n",
       "     light_std_mean  light_std_std  \n",
       "0          0.051475            NaN  \n",
       "1          0.774591       2.945807  \n",
       "2          1.138379       2.939823  \n",
       "3          1.054698       2.185839  \n",
       "4          0.823770       3.350365  \n",
       "..              ...            ...  \n",
       "964       -0.394200       2.742634  \n",
       "965       -0.438018       1.795653  \n",
       "966        1.236652       3.341580  \n",
       "967        0.521227       2.665325  \n",
       "968       -1.597793       2.344771  \n",
       "\n",
       "[969 rows x 7 columns]"
      ]
     },
     "execution_count": 10,
     "metadata": {},
     "output_type": "execute_result"
    }
   ],
   "source": [
    "files = glob(INPUT_DIR + \"series_train.parquet/*\")\n",
    "if IS_SUBMIT:\n",
    "    files += glob(INPUT_DIR + \"series_test.parquet/*\")\n",
    "\n",
    "list_df = []\n",
    "for file in tqdm(files):\n",
    "    df_series = (\n",
    "        pl.read_parquet(file)\n",
    "        .with_columns(\n",
    "            (\n",
    "                (pl.col(\"relative_date_PCIAT\") - pl.col(\"relative_date_PCIAT\").min())*24\n",
    "                + (pl.col(\"time_of_day\") // int(1e9)) / 3600\n",
    "            ).floor().cast(int).alias(\"total_hours\")\n",
    "        )\n",
    "        .filter(pl.col(\"non-wear_flag\") != 1)\n",
    "        .filter(pl.col(\"step\").count().over(\"total_hours\") == 12 * 60)\n",
    "        .group_by(\"total_hours\").agg(\n",
    "            pl.col(\"enmo\").std().alias(\"enmo_std\"),\n",
    "            pl.col(\"anglez\").std().alias(\"anglez_std\"),\n",
    "            pl.col(\"light\").std().alias(\"light_std\")\n",
    "        )\n",
    "        .with_columns(\n",
    "            (pl.col(\"total_hours\") % 24).alias(\"hour\"),\n",
    "            pl.lit(file.split(\"/\")[-1][3:]).alias(\"id\")\n",
    "        )\n",
    "    )\n",
    "    list_df.append(df_series.to_pandas())\n",
    "\n",
    "df_series = pd.concat(list_df)\n",
    "df_series[\"enmo_std\"] = np.log(df_series[\"enmo_std\"] + 0.01)\n",
    "df_series[\"anglez_std\"] = np.log(df_series[\"anglez_std\"] + 1)\n",
    "df_series[\"light_std\"] = np.log(df_series[\"light_std\"] + 0.01)\n",
    "\n",
    "df_agg = df_series.groupby(\"id\")[[\"enmo_std\", \"anglez_std\", \"light_std\"]].agg([\"mean\", \"std\"]).reset_index()\n",
    "df_agg.columns = [cols[0] + \"_\" + cols[1] if cols[1] != \"\" else cols[0] for cols in df_agg.columns]\n",
    "df_agg"
   ]
  },
  {
   "cell_type": "code",
   "execution_count": 11,
   "id": "e93129bd",
   "metadata": {
    "execution": {
     "iopub.execute_input": "2024-12-20T08:32:58.204216Z",
     "iopub.status.busy": "2024-12-20T08:32:58.203769Z",
     "iopub.status.idle": "2024-12-20T08:32:58.248233Z",
     "shell.execute_reply": "2024-12-20T08:32:58.246879Z"
    },
    "papermill": {
     "duration": 0.055143,
     "end_time": "2024-12-20T08:32:58.250979",
     "exception": false,
     "start_time": "2024-12-20T08:32:58.195836",
     "status": "completed"
    },
    "tags": []
   },
   "outputs": [
    {
     "data": {
      "text/plain": [
       "(2736, 85)"
      ]
     },
     "execution_count": 11,
     "metadata": {},
     "output_type": "execute_result"
    }
   ],
   "source": [
    "df_all = df_all.merge(df_agg, how=\"left\", on=\"id\")\n",
    "df_all[cat_cols] = df_all[cat_cols].astype(\"category\")\n",
    "\n",
    "df = df_all.iloc[:len(df)]\n",
    "df_test = df_all.iloc[len(df):]\n",
    "    \n",
    "df = df.dropna(subset=[\"sii\"]).reset_index(drop=True)\n",
    "df.shape"
   ]
  },
  {
   "cell_type": "code",
   "execution_count": 12,
   "id": "a4ce688f",
   "metadata": {
    "execution": {
     "iopub.execute_input": "2024-12-20T08:32:58.272267Z",
     "iopub.status.busy": "2024-12-20T08:32:58.270856Z",
     "iopub.status.idle": "2024-12-20T08:32:58.278731Z",
     "shell.execute_reply": "2024-12-20T08:32:58.277683Z"
    },
    "papermill": {
     "duration": 0.02123,
     "end_time": "2024-12-20T08:32:58.281383",
     "exception": false,
     "start_time": "2024-12-20T08:32:58.260153",
     "status": "completed"
    },
    "tags": []
   },
   "outputs": [],
   "source": [
    "X = df.drop([\"id\", \"sii\"] + drop_cols, axis=1)\n",
    "y = df[\"sii\"].astype(int)"
   ]
  },
  {
   "cell_type": "markdown",
   "id": "4d03cbd6",
   "metadata": {
    "papermill": {
     "duration": 0.00814,
     "end_time": "2024-12-20T08:32:58.298129",
     "exception": false,
     "start_time": "2024-12-20T08:32:58.289989",
     "status": "completed"
    },
    "tags": []
   },
   "source": [
    "## Custom Functions"
   ]
  },
  {
   "cell_type": "code",
   "execution_count": 13,
   "id": "65d777eb",
   "metadata": {
    "execution": {
     "iopub.execute_input": "2024-12-20T08:32:58.332484Z",
     "iopub.status.busy": "2024-12-20T08:32:58.332100Z",
     "iopub.status.idle": "2024-12-20T08:32:58.338482Z",
     "shell.execute_reply": "2024-12-20T08:32:58.337185Z"
    },
    "papermill": {
     "duration": 0.018,
     "end_time": "2024-12-20T08:32:58.340570",
     "exception": false,
     "start_time": "2024-12-20T08:32:58.322570",
     "status": "completed"
    },
    "tags": []
   },
   "outputs": [],
   "source": [
    "a = y.mean()\n",
    "b = y.var(ddof=0)\n",
    "y_min = y.min()\n",
    "y_max = y.max()"
   ]
  },
  {
   "cell_type": "code",
   "execution_count": 14,
   "id": "6bda8787",
   "metadata": {
    "execution": {
     "iopub.execute_input": "2024-12-20T08:32:58.356096Z",
     "iopub.status.busy": "2024-12-20T08:32:58.355625Z",
     "iopub.status.idle": "2024-12-20T08:32:58.365022Z",
     "shell.execute_reply": "2024-12-20T08:32:58.363867Z"
    },
    "papermill": {
     "duration": 0.019447,
     "end_time": "2024-12-20T08:32:58.366940",
     "exception": false,
     "start_time": "2024-12-20T08:32:58.347493",
     "status": "completed"
    },
    "tags": []
   },
   "outputs": [],
   "source": [
    "# This function can calculate the original Quadratic Weighted Kappa and also supports continuous predictions.\n",
    "def generalized_qwk(labels, preds):\n",
    "    preds = preds.clip(y_min, y_max)\n",
    "    qwk = 1 - ((labels - preds)**2).sum() / ((preds - a)**2 + b).sum()\n",
    "    \n",
    "    return qwk\n",
    "\n",
    "\n",
    "def qwk_metric(preds, data):\n",
    "    y_true = data.get_label().round()\n",
    "    y_pred = preds\n",
    "    qwk = generalized_qwk(y_true, y_pred)\n",
    "    \n",
    "    return 'QWK', qwk, True\n",
    "\n",
    "\n",
    "def qwk_obj(preds, dtrain):\n",
    "    labels = dtrain.get_label()\n",
    "    preds = preds.clip(y_min, y_max)\n",
    "    f = 1/2*np.sum((preds-labels)**2)\n",
    "    g = 1/2*np.sum((preds-a)**2+b)\n",
    "    df = preds - labels\n",
    "    dg = preds - a\n",
    "    grad = (df/g - f*dg/g**2) * len(labels)\n",
    "    hess = np.ones(len(labels))\n",
    "    \n",
    "    return grad, hess"
   ]
  },
  {
   "cell_type": "markdown",
   "id": "045a9c3f",
   "metadata": {
    "papermill": {
     "duration": 0.006315,
     "end_time": "2024-12-20T08:32:58.379890",
     "exception": false,
     "start_time": "2024-12-20T08:32:58.373575",
     "status": "completed"
    },
    "tags": []
   },
   "source": [
    "## Nested CV (10 x 10)"
   ]
  },
  {
   "cell_type": "code",
   "execution_count": 15,
   "id": "e3034e8d",
   "metadata": {
    "execution": {
     "iopub.execute_input": "2024-12-20T08:32:58.395609Z",
     "iopub.status.busy": "2024-12-20T08:32:58.395125Z",
     "iopub.status.idle": "2024-12-20T08:32:58.401268Z",
     "shell.execute_reply": "2024-12-20T08:32:58.400126Z"
    },
    "papermill": {
     "duration": 0.016495,
     "end_time": "2024-12-20T08:32:58.403497",
     "exception": false,
     "start_time": "2024-12-20T08:32:58.387002",
     "status": "completed"
    },
    "tags": []
   },
   "outputs": [],
   "source": [
    "params = {\n",
    "    \"objective\": qwk_obj,\n",
    "    \"metric\": \"None\",\n",
    "    \"learning_rate\": 0.01,\n",
    "    \"num_leaves\": 8,\n",
    "    \"feature_fraction_bynode\": 0.6,\n",
    "    \"min_data_in_leaf\": 200,\n",
    "}"
   ]
  },
  {
   "cell_type": "code",
   "execution_count": 16,
   "id": "2af7d74b",
   "metadata": {
    "execution": {
     "iopub.execute_input": "2024-12-20T08:32:58.423348Z",
     "iopub.status.busy": "2024-12-20T08:32:58.422484Z",
     "iopub.status.idle": "2024-12-20T08:32:58.427890Z",
     "shell.execute_reply": "2024-12-20T08:32:58.426882Z"
    },
    "papermill": {
     "duration": 0.01769,
     "end_time": "2024-12-20T08:32:58.429938",
     "exception": false,
     "start_time": "2024-12-20T08:32:58.412248",
     "status": "completed"
    },
    "tags": []
   },
   "outputs": [],
   "source": [
    "n_splits = 10\n",
    "init_score = a"
   ]
  },
  {
   "cell_type": "code",
   "execution_count": 17,
   "id": "e076b234",
   "metadata": {
    "execution": {
     "iopub.execute_input": "2024-12-20T08:32:58.448512Z",
     "iopub.status.busy": "2024-12-20T08:32:58.448135Z",
     "iopub.status.idle": "2024-12-20T08:36:39.583678Z",
     "shell.execute_reply": "2024-12-20T08:36:39.582010Z"
    },
    "papermill": {
     "duration": 221.161749,
     "end_time": "2024-12-20T08:36:39.600610",
     "exception": false,
     "start_time": "2024-12-20T08:32:58.438861",
     "status": "completed"
    },
    "tags": []
   },
   "outputs": [
    {
     "data": {
      "image/png": "[encoded data removed]",
      "text/plain": [
       "<Figure size 640x480 with 1 Axes>"
      ]
     },
     "metadata": {},
     "output_type": "display_data"
    }
   ],
   "source": [
    "list_target_and_preds_inner_oof = []\n",
    "preds_outer_oof = np.zeros(len(df))\n",
    "preds_test = np.zeros(len(df_test))\n",
    "dfs_importance = []\n",
    "skf = StratifiedKFold(n_splits=n_splits, shuffle=True, random_state=10)\n",
    "for fold, (idx_train, idx_test) in enumerate(skf.split(X, y)):\n",
    "    X_train, y_train = X.iloc[idx_train], y.iloc[idx_train]\n",
    "    X_test, y_test = X.iloc[idx_test], y.iloc[idx_test]\n",
    "    \n",
    "    folds = [(idx_train, idx_valid) for idx_train, idx_valid in skf.split(X_train, y_train)]\n",
    "    models = lgb.cv(\n",
    "        params=params,\n",
    "        train_set=lgb.Dataset(X_train, y_train, init_score=[init_score]*len(X_train)),\n",
    "        num_boost_round=10000,\n",
    "        folds=folds,\n",
    "        feval=qwk_metric,\n",
    "        callbacks=[\n",
    "            lgb.early_stopping(stopping_rounds=100),\n",
    "        ],\n",
    "        return_cvbooster=True\n",
    "    )[\"cvbooster\"].boosters\n",
    "\n",
    "    for fold, model in enumerate(models):\n",
    "        df_importance = pd.DataFrame(model.feature_importance(importance_type=\"gain\"), index=X_train.columns).reset_index()\n",
    "        df_importance.columns = [\"feature\", \"importance\"]\n",
    "        df_importance[\"fold\"] = fold\n",
    "        dfs_importance.append(df_importance)\n",
    "\n",
    "    preds_inner_oof = np.zeros(len(X_train))\n",
    "    for model, (idx_train, idx_valid) in zip(models, folds):\n",
    "        preds_inner_oof[idx_valid] = model.predict(X_train.iloc[idx_valid]) + init_score\n",
    "    list_target_and_preds_inner_oof.append(np.stack([np.array(y_train), preds_inner_oof]).T)\n",
    "\n",
    "    preds = np.zeros(len(X_test))\n",
    "    for model in models:\n",
    "        preds += (model.predict(X_test) + init_score) / n_splits\n",
    "        preds_test += (model.predict(df_test[X.columns]) + init_score) / n_splits / n_splits\n",
    "    preds_outer_oof[idx_test] = preds\n",
    "\n",
    "df_importance = pd.concat(dfs_importance, ignore_index=True)\n",
    "df_importance = df_importance.groupby(\"feature\")[\"importance\"].agg([\"mean\", \"std\"])\n",
    "df_importance.to_csv(\"importance.csv\")\n",
    "df_importance = df_importance.reset_index().sort_values(\"mean\").iloc[-30:]\n",
    "fig, ax = plt.subplots()\n",
    "ax.barh(\n",
    "    y=range(len(df_importance)),\n",
    "    width=df_importance[\"mean\"],\n",
    "    xerr=df_importance[\"std\"],\n",
    "    tick_label=df_importance[\"feature\"]\n",
    ")\n",
    "plt.show()\n",
    "plt.close()"
   ]
  },
  {
   "cell_type": "markdown",
   "id": "8a5662c9",
   "metadata": {
    "papermill": {
     "duration": 0.007601,
     "end_time": "2024-12-20T08:36:39.616289",
     "exception": false,
     "start_time": "2024-12-20T08:36:39.608688",
     "status": "completed"
    },
    "tags": []
   },
   "source": [
    "## Optimize thresholds"
   ]
  },
  {
   "cell_type": "code",
   "execution_count": 18,
   "id": "465aef43",
   "metadata": {
    "execution": {
     "iopub.execute_input": "2024-12-20T08:36:39.634492Z",
     "iopub.status.busy": "2024-12-20T08:36:39.634099Z",
     "iopub.status.idle": "2024-12-20T08:36:39.640260Z",
     "shell.execute_reply": "2024-12-20T08:36:39.639108Z"
    },
    "papermill": {
     "duration": 0.018572,
     "end_time": "2024-12-20T08:36:39.642826",
     "exception": false,
     "start_time": "2024-12-20T08:36:39.624254",
     "status": "completed"
    },
    "tags": []
   },
   "outputs": [],
   "source": [
    "def apply_thresholds(preds, thresholds):\n",
    "    preds_new = np.zeros(len(preds), dtype=int)\n",
    "    for threshold in thresholds:\n",
    "        preds_new += preds > threshold\n",
    "    \n",
    "    return preds_new"
   ]
  },
  {
   "cell_type": "code",
   "execution_count": 19,
   "id": "5c0e4f26",
   "metadata": {
    "execution": {
     "iopub.execute_input": "2024-12-20T08:36:39.661584Z",
     "iopub.status.busy": "2024-12-20T08:36:39.661181Z",
     "iopub.status.idle": "2024-12-20T08:36:39.670424Z",
     "shell.execute_reply": "2024-12-20T08:36:39.669359Z"
    },
    "papermill": {
     "duration": 0.021605,
     "end_time": "2024-12-20T08:36:39.672889",
     "exception": false,
     "start_time": "2024-12-20T08:36:39.651284",
     "status": "completed"
    },
    "tags": []
   },
   "outputs": [],
   "source": [
    "# iterative grid search \n",
    "def optimize_thresholds(y, preds):\n",
    "    thresholds = np.array([0.5, 1.5, 2.5])\n",
    "    best_qwk = -np.inf\n",
    "    while True:\n",
    "        update_flag = False\n",
    "        for i in range(len(thresholds)):\n",
    "            best_threshold = thresholds[i]\n",
    "            thresholds[i] = 0\n",
    "            for j in range(300):\n",
    "                thresholds[i] += 0.01\n",
    "                qwk_tmp = cohen_kappa_score(y, apply_thresholds(preds, thresholds), weights=\"quadratic\")\n",
    "                if qwk_tmp > best_qwk:\n",
    "                    update_flag = True\n",
    "                    best_qwk = qwk_tmp\n",
    "                    best_threshold = thresholds[i]\n",
    "                    print(\"updated thresholds:\", thresholds, \"QWK:\", best_qwk)\n",
    "            thresholds[i] = best_threshold\n",
    "        if not update_flag:\n",
    "            break\n",
    "        thresholds = np.sort(thresholds)\n",
    "    \n",
    "    return thresholds"
   ]
  },
  {
   "cell_type": "code",
   "execution_count": 20,
   "id": "1a4a8b54",
   "metadata": {
    "execution": {
     "iopub.execute_input": "2024-12-20T08:36:39.691833Z",
     "iopub.status.busy": "2024-12-20T08:36:39.691378Z",
     "iopub.status.idle": "2024-12-20T08:37:15.529900Z",
     "shell.execute_reply": "2024-12-20T08:37:15.528842Z"
    },
    "papermill": {
     "duration": 35.851094,
     "end_time": "2024-12-20T08:37:15.532789",
     "exception": false,
     "start_time": "2024-12-20T08:36:39.681695",
     "status": "completed"
    },
    "tags": []
   },
   "outputs": [
    {
     "name": "stdout",
     "output_type": "stream",
     "text": [
      "updated thresholds: [0.01 1.5  2.5 ] QWK: 0.41991582310647535\n",
      "updated thresholds: [0.02 1.5  2.5 ] QWK: 0.42236735852907514\n",
      "updated thresholds: [0.03 1.5  2.5 ] QWK: 0.4239512417641341\n",
      "updated thresholds: [0.04 1.5  2.5 ] QWK: 0.42587287024931486\n",
      "updated thresholds: [0.05 1.5  2.5 ] QWK: 0.42709300445318166\n",
      "updated thresholds: [0.06 1.5  2.5 ] QWK: 0.42855200835438934\n",
      "updated thresholds: [0.07 1.5  2.5 ] QWK: 0.42998015512322507\n",
      "updated thresholds: [0.08 1.5  2.5 ] QWK: 0.4309414538284583\n",
      "updated thresholds: [0.09 1.5  2.5 ] QWK: 0.4322820793598513\n",
      "updated thresholds: [0.1 1.5 2.5] QWK: 0.4336701688184542\n",
      "updated thresholds: [0.11 1.5  2.5 ] QWK: 0.43542235183163425\n",
      "updated thresholds: [0.12 1.5  2.5 ] QWK: 0.4373551355527624\n",
      "updated thresholds: [0.13 1.5  2.5 ] QWK: 0.43819662075415056\n",
      "updated thresholds: [0.14 1.5  2.5 ] QWK: 0.43910736099264014\n",
      "updated thresholds: [0.15 1.5  2.5 ] QWK: 0.44003056664290974\n",
      "updated thresholds: [0.16 1.5  2.5 ] QWK: 0.4415146067005147\n",
      "updated thresholds: [0.17 1.5  2.5 ] QWK: 0.4421553794142853\n",
      "updated thresholds: [0.18 1.5  2.5 ] QWK: 0.443656144731557\n",
      "updated thresholds: [0.19 1.5  2.5 ] QWK: 0.44537208979552967\n",
      "updated thresholds: [0.2 1.5 2.5] QWK: 0.44685328040717687\n",
      "updated thresholds: [0.21 1.5  2.5 ] QWK: 0.4482307105508515\n",
      "updated thresholds: [0.22 1.5  2.5 ] QWK: 0.4484724836774432\n",
      "updated thresholds: [0.23 1.5  2.5 ] QWK: 0.44990267999653766\n",
      "updated thresholds: [0.24 1.5  2.5 ] QWK: 0.4508628747592093\n",
      "updated thresholds: [0.25 1.5  2.5 ] QWK: 0.451812779884328\n",
      "updated thresholds: [0.26 1.5  2.5 ] QWK: 0.45362019429589284\n",
      "updated thresholds: [0.27 1.5  2.5 ] QWK: 0.45592502513258215\n",
      "updated thresholds: [0.28 1.5  2.5 ] QWK: 0.45768264681309234\n",
      "updated thresholds: [0.29 1.5  2.5 ] QWK: 0.4591616205195239\n",
      "updated thresholds: [0.3 1.5 2.5] QWK: 0.46038942669301053\n",
      "updated thresholds: [0.31 1.5  2.5 ] QWK: 0.4609530112508273\n",
      "updated thresholds: [0.32 1.5  2.5 ] QWK: 0.462461529055618\n",
      "updated thresholds: [0.33 1.5  2.5 ] QWK: 0.46373265480369597\n",
      "updated thresholds: [0.34 1.5  2.5 ] QWK: 0.4645559479244734\n",
      "updated thresholds: [0.35 1.5  2.5 ] QWK: 0.46506031500333767\n",
      "updated thresholds: [0.36 1.5  2.5 ] QWK: 0.4658290975928623\n",
      "updated thresholds: [0.38 1.5  2.5 ] QWK: 0.4658543895069964\n",
      "updated thresholds: [0.39 1.5  2.5 ] QWK: 0.4672267211130732\n",
      "updated thresholds: [0.4 1.5 2.5] QWK: 0.46859286444794823\n",
      "updated thresholds: [0.41 1.5  2.5 ] QWK: 0.4700807384232121\n",
      "updated thresholds: [0.42 1.5  2.5 ] QWK: 0.4708586101293971\n",
      "updated thresholds: [0.43 1.5  2.5 ] QWK: 0.4721683784607378\n",
      "updated thresholds: [0.46 1.5  2.5 ] QWK: 0.47345810458995985\n",
      "updated thresholds: [0.47 1.5  2.5 ] QWK: 0.4736550917750302\n",
      "updated thresholds: [0.49 1.5  2.5 ] QWK: 0.47414786134383424\n",
      "updated thresholds: [0.51 1.5  2.5 ] QWK: 0.47467637031518173\n",
      "updated thresholds: [0.52 1.5  2.5 ] QWK: 0.47519593714114794\n",
      "updated thresholds: [0.53 1.5  2.5 ] QWK: 0.4753811083714057\n",
      "updated thresholds: [0.55 1.5  2.5 ] QWK: 0.4759817496504053\n",
      "updated thresholds: [0.55 1.1  2.5 ] QWK: 0.4762835247210633\n",
      "updated thresholds: [0.55 1.11 2.5 ] QWK: 0.4775160314760596\n",
      "updated thresholds: [0.55 1.12 2.5 ] QWK: 0.4785633917577722\n",
      "updated thresholds: [0.55 1.13 2.5 ] QWK: 0.47954963819762486\n",
      "updated thresholds: [0.55 1.14 2.5 ] QWK: 0.4799042433196522\n",
      "updated thresholds: [0.55 1.15 2.5 ] QWK: 0.4803232966676767\n",
      "updated thresholds: [0.55 1.16 2.5 ] QWK: 0.4811448260512404\n",
      "updated thresholds: [0.55 1.17 2.5 ] QWK: 0.481269453327524\n",
      "updated thresholds: [0.55 1.18 2.5 ] QWK: 0.4826375403898152\n",
      "updated thresholds: [0.55 1.19 2.5 ] QWK: 0.4832396099540278\n",
      "updated thresholds: [0.55 1.2  2.5 ] QWK: 0.48375067180398934\n",
      "updated thresholds: [0.55 1.21 2.5 ] QWK: 0.4847516465573988\n",
      "updated thresholds: [0.55 1.23 2.5 ] QWK: 0.4858497514719009\n",
      "updated thresholds: [0.55 1.24 2.5 ] QWK: 0.4864706250932155\n",
      "updated thresholds: [0.55 1.25 2.5 ] QWK: 0.4866165714905615\n",
      "updated thresholds: [0.55 1.26 2.5 ] QWK: 0.48669621314573763\n",
      "updated thresholds: [0.55 1.34 2.5 ] QWK: 0.4867932552045716\n",
      "updated thresholds: [0.55 1.34 2.16] QWK: 0.4868004967016881\n",
      "updated thresholds: [0.55 1.34 2.17] QWK: 0.4869565200344017\n",
      "updated thresholds: [0.55 1.34 2.18] QWK: 0.48721955399729944\n",
      "updated thresholds: [0.55 1.34 2.19] QWK: 0.48736699671300066\n",
      "updated thresholds: [0.55 1.34 2.2 ] QWK: 0.4874190804869616\n",
      "updated thresholds: [0.55 1.34 2.21] QWK: 0.4878729093119959\n",
      "updated thresholds: [0.55 1.34 2.23] QWK: 0.4880197789303735\n",
      "updated thresholds: [0.55 1.34 2.25] QWK: 0.4880550162225685\n",
      "updated thresholds: [0.55 1.34 2.26] QWK: 0.4886616528412039\n"
     ]
    }
   ],
   "source": [
    "preds_all = np.concatenate(list_target_and_preds_inner_oof)\n",
    "thresholds = optimize_thresholds(preds_all[:, 0], preds_all[:, 1])"
   ]
  },
  {
   "cell_type": "code",
   "execution_count": 21,
   "id": "99f02927",
   "metadata": {
    "execution": {
     "iopub.execute_input": "2024-12-20T08:37:15.552785Z",
     "iopub.status.busy": "2024-12-20T08:37:15.552374Z",
     "iopub.status.idle": "2024-12-20T08:37:15.575795Z",
     "shell.execute_reply": "2024-12-20T08:37:15.574427Z"
    },
    "papermill": {
     "duration": 0.036101,
     "end_time": "2024-12-20T08:37:15.578372",
     "exception": false,
     "start_time": "2024-12-20T08:37:15.542271",
     "status": "completed"
    },
    "tags": []
   },
   "outputs": [
    {
     "name": "stdout",
     "output_type": "stream",
     "text": [
      "fold: 0\tQWK-inner: 0.4812\n",
      "fold: 1\tQWK-inner: 0.4889\n",
      "fold: 2\tQWK-inner: 0.4861\n",
      "fold: 3\tQWK-inner: 0.4852\n",
      "fold: 4\tQWK-inner: 0.4942\n",
      "fold: 5\tQWK-inner: 0.5048\n",
      "fold: 6\tQWK-inner: 0.4991\n",
      "fold: 7\tQWK-inner: 0.4772\n",
      "fold: 8\tQWK-inner: 0.4838\n",
      "fold: 9\tQWK-inner: 0.4863\n",
      "QWK-inner: 0.4887 ± 0.0080\tQWK-outer: 0.4884\n",
      "\n"
     ]
    }
   ],
   "source": [
    "qwks_inner = []\n",
    "for fold in range(len(list_target_and_preds_inner_oof)):\n",
    "    labels = list_target_and_preds_inner_oof[fold][:, 0].astype(int)\n",
    "    preds = list_target_and_preds_inner_oof[fold][:, 1]\n",
    "    preds = apply_thresholds(preds, thresholds)\n",
    "    qwks_inner.append(cohen_kappa_score(labels, preds, weights=\"quadratic\"))\n",
    "    print(f\"fold: {fold}\\tQWK-inner: {qwks_inner[-1]:.4f}\")\n",
    "\n",
    "preds_outer_oof = preds_outer_oof.clip(y_min, y_max)\n",
    "preds_outer_oof = apply_thresholds(preds_outer_oof, thresholds)\n",
    "qwk_outer = cohen_kappa_score(y, preds_outer_oof, weights=\"quadratic\")\n",
    "print(f\"QWK-inner: {np.mean(qwks_inner):.4f} ± {np.std(qwks_inner):.4f}\\tQWK-outer: {qwk_outer:.4f}\")\n",
    "print()"
   ]
  },
  {
   "cell_type": "code",
   "execution_count": 22,
   "id": "7bb7cb96",
   "metadata": {
    "execution": {
     "iopub.execute_input": "2024-12-20T08:37:15.597924Z",
     "iopub.status.busy": "2024-12-20T08:37:15.597518Z",
     "iopub.status.idle": "2024-12-20T08:37:15.603368Z",
     "shell.execute_reply": "2024-12-20T08:37:15.602055Z"
    },
    "papermill": {
     "duration": 0.018427,
     "end_time": "2024-12-20T08:37:15.605766",
     "exception": false,
     "start_time": "2024-12-20T08:37:15.587339",
     "status": "completed"
    },
    "tags": []
   },
   "outputs": [],
   "source": [
    "preds_test = preds_test.clip(y_min, y_max)\n",
    "preds_test = apply_thresholds(preds_test, thresholds)"
   ]
  },
  {
   "cell_type": "code",
   "execution_count": 23,
   "id": "29388e77",
   "metadata": {
    "execution": {
     "iopub.execute_input": "2024-12-20T08:37:15.625910Z",
     "iopub.status.busy": "2024-12-20T08:37:15.625503Z",
     "iopub.status.idle": "2024-12-20T08:37:15.644322Z",
     "shell.execute_reply": "2024-12-20T08:37:15.643027Z"
    },
    "papermill": {
     "duration": 0.032218,
     "end_time": "2024-12-20T08:37:15.647321",
     "exception": false,
     "start_time": "2024-12-20T08:37:15.615103",
     "status": "completed"
    },
    "tags": []
   },
   "outputs": [],
   "source": [
    "df_submission = pd.read_csv(INPUT_DIR + \"sample_submission.csv\")\n",
    "df_submission[\"sii\"] = preds_test\n",
    "df_submission.to_csv(\"submission.csv\", index=False)"
   ]
  }
 ],
 "metadata": {
  "kaggle": {
   "accelerator": "none",
   "dataSources": [
    {
     "databundleVersionId": 9643020,
     "sourceId": 81933,
     "sourceType": "competition"
    }
   ],
   "dockerImageVersionId": 30761,
   "isGpuEnabled": false,
   "isInternetEnabled": false,
   "language": "python",
   "sourceType": "notebook"
  },
  "kernelspec": {
   "display_name": "Python 3 (ipykernel)",
   "language": "python",
   "name": "python3"
  },
  "language_info": {
   "codemirror_mode": {
    "name": "ipython",
    "version": 3
   },
   "file_extension": ".py",
   "mimetype": "text/x-python",
   "name": "python",
   "nbconvert_exporter": "python",
   "pygments_lexer": "ipython3",
   "version": "3.11.5"
  },
  "papermill": {
   "default_parameters": {},
   "duration": 387.044167,
   "end_time": "2024-12-20T08:37:16.684756",
   "environment_variables": {},
   "exception": null,
   "input_path": "__notebook__.ipynb",
   "output_path": "__notebook__.ipynb",
   "parameters": {},
   "start_time": "2024-12-20T08:30:49.640589",
   "version": "2.6.0"
  },
  "widgets": {
   "application/vnd.jupyter.widget-state+json": {
    "state": {
     "1493f14e24384c1585c21f65a66efc6d": {
      "model_module": "@jupyter-widgets/base",
      "model_module_version": "1.2.0",
      "model_name": "LayoutModel",
      "state": {
       "_model_module": "@jupyter-widgets/base",
       "_model_module_version": "1.2.0",
       "_model_name": "LayoutModel",
       "_view_count": null,
       "_view_module": "@jupyter-widgets/base",
       "_view_module_version": "1.2.0",
       "_view_name": "LayoutView",
       "align_content": null,
       "align_items": null,
       "align_self": null,
       "border": null,
       "bottom": null,
       "display": null,
       "flex": null,
       "flex_flow": null,
       "grid_area": null,
       "grid_auto_columns": null,
       "grid_auto_flow": null,
       "grid_auto_rows": null,
       "grid_column": null,
       "grid_gap": null,
       "grid_row": null,
       "grid_template_areas": null,
       "grid_template_columns": null,
       "grid_template_rows": null,
       "height": null,
       "justify_content": null,
       "justify_items": null,
       "left": null,
       "margin": null,
       "max_height": null,
       "max_width": null,
       "min_height": null,
       "min_width": null,
       "object_fit": null,
       "object_position": null,
       "order": null,
       "overflow": null,
       "overflow_x": null,
       "overflow_y": null,
       "padding": null,
       "right": null,
       "top": null,
       "visibility": null,
       "width": null
      }
     },
     "1e1c82b649a3439bb5e131e10f7c61f5": {
      "model_module": "@jupyter-widgets/controls",
      "model_module_version": "1.5.0",
      "model_name": "HBoxModel",
      "state": {
       "_dom_classes": [],
       "_model_module": "@jupyter-widgets/controls",
       "_model_module_version": "1.5.0",
       "_model_name": "HBoxModel",
       "_view_count": null,
       "_view_module": "@jupyter-widgets/controls",
       "_view_module_version": "1.5.0",
       "_view_name": "HBoxView",
       "box_style": "",
       "children": [
        "IPY_MODEL_b57303e9c6ed4df7b35c80bdb248f375",
        "IPY_MODEL_e1acfd08af8c412aa463b5b5fa2b8d56",
        "IPY_MODEL_cb84fbecda644c6ab2f82e681d16ae63"
       ],
       "layout": "IPY_MODEL_3392e3692edc482481e7d3fbae9ec751"
      }
     },
     "317e8a5e6f954f45a85895243a559911": {
      "model_module": "@jupyter-widgets/controls",
      "model_module_version": "1.5.0",
      "model_name": "DescriptionStyleModel",
      "state": {
       "_model_module": "@jupyter-widgets/controls",
       "_model_module_version": "1.5.0",
       "_model_name": "DescriptionStyleModel",
       "_view_count": null,
       "_view_module": "@jupyter-widgets/base",
       "_view_module_version": "1.2.0",
       "_view_name": "StyleView",
       "description_width": ""
      }
     },
     "3392e3692edc482481e7d3fbae9ec751": {
      "model_module": "@jupyter-widgets/base",
      "model_module_version": "1.2.0",
      "model_name": "LayoutModel",
      "state": {
       "_model_module": "@jupyter-widgets/base",
       "_model_module_version": "1.2.0",
       "_model_name": "LayoutModel",
       "_view_count": null,
       "_view_module": "@jupyter-widgets/base",
       "_view_module_version": "1.2.0",
       "_view_name": "LayoutView",
       "align_content": null,
       "align_items": null,
       "align_self": null,
       "border": null,
       "bottom": null,
       "display": null,
       "flex": null,
       "flex_flow": null,
       "grid_area": null,
       "grid_auto_columns": null,
       "grid_auto_flow": null,
       "grid_auto_rows": null,
       "grid_column": null,
       "grid_gap": null,
       "grid_row": null,
       "grid_template_areas": null,
       "grid_template_columns": null,
       "grid_template_rows": null,
       "height": null,
       "justify_content": null,
       "justify_items": null,
       "left": null,
       "margin": null,
       "max_height": null,
       "max_width": null,
       "min_height": null,
       "min_width": null,
       "object_fit": null,
       "object_position": null,
       "order": null,
       "overflow": null,
       "overflow_x": null,
       "overflow_y": null,
       "padding": null,
       "right": null,
       "top": null,
       "visibility": null,
       "width": null
      }
     },
     "7d36654bba3a4c4d885c6c56ba123144": {
      "model_module": "@jupyter-widgets/controls",
      "model_module_version": "1.5.0",
      "model_name": "ProgressStyleModel",
      "state": {
       "_model_module": "@jupyter-widgets/controls",
       "_model_module_version": "1.5.0",
       "_model_name": "ProgressStyleModel",
       "_view_count": null,
       "_view_module": "@jupyter-widgets/base",
       "_view_module_version": "1.2.0",
       "_view_name": "StyleView",
       "bar_color": null,
       "description_width": ""
      }
     },
     "97cb147c78b84372b554d7b7aaf9717c": {
      "model_module": "@jupyter-widgets/base",
      "model_module_version": "1.2.0",
      "model_name": "LayoutModel",
      "state": {
       "_model_module": "@jupyter-widgets/base",
       "_model_module_version": "1.2.0",
       "_model_name": "LayoutModel",
       "_view_count": null,
       "_view_module": "@jupyter-widgets/base",
       "_view_module_version": "1.2.0",
       "_view_name": "LayoutView",
       "align_content": null,
       "align_items": null,
       "align_self": null,
       "border": null,
       "bottom": null,
       "display": null,
       "flex": null,
       "flex_flow": null,
       "grid_area": null,
       "grid_auto_columns": null,
       "grid_auto_flow": null,
       "grid_auto_rows": null,
       "grid_column": null,
       "grid_gap": null,
       "grid_row": null,
       "grid_template_areas": null,
       "grid_template_columns": null,
       "grid_template_rows": null,
       "height": null,
       "justify_content": null,
       "justify_items": null,
       "left": null,
       "margin": null,
       "max_height": null,
       "max_width": null,
       "min_height": null,
       "min_width": null,
       "object_fit": null,
       "object_position": null,
       "order": null,
       "overflow": null,
       "overflow_x": null,
       "overflow_y": null,
       "padding": null,
       "right": null,
       "top": null,
       "visibility": null,
       "width": null
      }
     },
     "a64dc9c1b8a34cd98234480f08513afa": {
      "model_module": "@jupyter-widgets/base",
      "model_module_version": "1.2.0",
      "model_name": "LayoutModel",
      "state": {
       "_model_module": "@jupyter-widgets/base",
       "_model_module_version": "1.2.0",
       "_model_name": "LayoutModel",
       "_view_count": null,
       "_view_module": "@jupyter-widgets/base",
       "_view_module_version": "1.2.0",
       "_view_name": "LayoutView",
       "align_content": null,
       "align_items": null,
       "align_self": null,
       "border": null,
       "bottom": null,
       "display": null,
       "flex": null,
       "flex_flow": null,
       "grid_area": null,
       "grid_auto_columns": null,
       "grid_auto_flow": null,
       "grid_auto_rows": null,
       "grid_column": null,
       "grid_gap": null,
       "grid_row": null,
       "grid_template_areas": null,
       "grid_template_columns": null,
       "grid_template_rows": null,
       "height": null,
       "justify_content": null,
       "justify_items": null,
       "left": null,
       "margin": null,
       "max_height": null,
       "max_width": null,
       "min_height": null,
       "min_width": null,
       "object_fit": null,
       "object_position": null,
       "order": null,
       "overflow": null,
       "overflow_x": null,
       "overflow_y": null,
       "padding": null,
       "right": null,
       "top": null,
       "visibility": null,
       "width": null
      }
     },
     "b57303e9c6ed4df7b35c80bdb248f375": {
      "model_module": "@jupyter-widgets/controls",
      "model_module_version": "1.5.0",
      "model_name": "HTMLModel",
      "state": {
       "_dom_classes": [],
       "_model_module": "@jupyter-widgets/controls",
       "_model_module_version": "1.5.0",
       "_model_name": "HTMLModel",
       "_view_count": null,
       "_view_module": "@jupyter-widgets/controls",
       "_view_module_version": "1.5.0",
       "_view_name": "HTMLView",
       "description": "",
       "description_tooltip": null,
       "layout": "IPY_MODEL_a64dc9c1b8a34cd98234480f08513afa",
       "placeholder": "​",
       "style": "IPY_MODEL_fc3ef1e67d59468a941e9a4f48cde821",
       "value": "100%"
      }
     },
     "cb84fbecda644c6ab2f82e681d16ae63": {
      "model_module": "@jupyter-widgets/controls",
      "model_module_version": "1.5.0",
      "model_name": "HTMLModel",
      "state": {
       "_dom_classes": [],
       "_model_module": "@jupyter-widgets/controls",
       "_model_module_version": "1.5.0",
       "_model_name": "HTMLModel",
       "_view_count": null,
       "_view_module": "@jupyter-widgets/controls",
       "_view_module_version": "1.5.0",
       "_view_name": "HTMLView",
       "description": "",
       "description_tooltip": null,
       "layout": "IPY_MODEL_97cb147c78b84372b554d7b7aaf9717c",
       "placeholder": "​",
       "style": "IPY_MODEL_317e8a5e6f954f45a85895243a559911",
       "value": " 996/996 [01:13&lt;00:00, 14.11it/s]"
      }
     },
     "e1acfd08af8c412aa463b5b5fa2b8d56": {
      "model_module": "@jupyter-widgets/controls",
      "model_module_version": "1.5.0",
      "model_name": "FloatProgressModel",
      "state": {
       "_dom_classes": [],
       "_model_module": "@jupyter-widgets/controls",
       "_model_module_version": "1.5.0",
       "_model_name": "FloatProgressModel",
       "_view_count": null,
       "_view_module": "@jupyter-widgets/controls",
       "_view_module_version": "1.5.0",
       "_view_name": "ProgressView",
       "bar_style": "success",
       "description": "",
       "description_tooltip": null,
       "layout": "IPY_MODEL_1493f14e24384c1585c21f65a66efc6d",
       "max": 996,
       "min": 0,
       "orientation": "horizontal",
       "style": "IPY_MODEL_7d36654bba3a4c4d885c6c56ba123144",
       "value": 996
      }
     },
     "fc3ef1e67d59468a941e9a4f48cde821": {
      "model_module": "@jupyter-widgets/controls",
      "model_module_version": "1.5.0",
      "model_name": "DescriptionStyleModel",
      "state": {
       "_model_module": "@jupyter-widgets/controls",
       "_model_module_version": "1.5.0",
       "_model_name": "DescriptionStyleModel",
       "_view_count": null,
       "_view_module": "@jupyter-widgets/base",
       "_view_module_version": "1.2.0",
       "_view_name": "StyleView",
       "description_width": ""
      }
     }
    },
    "version_major": 2,
    "version_minor": 0
   }
  }
 },
 "nbformat": 4,
 "nbformat_minor": 5
}
